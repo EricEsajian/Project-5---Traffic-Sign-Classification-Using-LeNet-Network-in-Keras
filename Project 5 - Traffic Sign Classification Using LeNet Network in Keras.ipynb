{
 "cells": [
  {
   "cell_type": "markdown",
   "metadata": {},
   "source": [
    "# CODE TO CLASSIFY TRAFFIC SIGNS USING LE-NET ARCHITECTURE IN KERAS"
   ]
  },
  {
   "cell_type": "markdown",
   "metadata": {},
   "source": [
    "# STEP 0: PROBLEM STATEMENT"
   ]
  },
  {
   "cell_type": "markdown",
   "metadata": {},
   "source": [
    "- In this case study, you have been provided with images of traffic signs and the goal is to train a Deep Network to classify them\n",
    "- The dataset contains 43 different classes of images. \n",
    "- Classes are as listed below: \n",
    "\n",
    "    - ( 0, b'Speed limit (20km/h)') ( 1, b'Speed limit (30km/h)')\n",
    "    - ( 2, b'Speed limit (50km/h)') ( 3, b'Speed limit (60km/h)')\n",
    "    - ( 4, b'Speed limit (70km/h)') ( 5, b'Speed limit (80km/h)')\n",
    "    - ( 6, b'End of speed limit (80km/h)') ( 7, b'Speed limit (100km/h)')\n",
    "    - ( 8, b'Speed limit (120km/h)') ( 9, b'No passing')\n",
    "    - (10, b'No passing for vehicles over 3.5 metric tons')\n",
    "    - (11, b'Right-of-way at the next intersection') (12, b'Priority road')\n",
    "    - (13, b'Yield') (14, b'Stop') (15, b'No vehicles')\n",
    "    - (16, b'Vehicles over 3.5 metric tons prohibited') (17, b'No entry')\n",
    "    - (18, b'General caution') (19, b'Dangerous curve to the left')\n",
    "    - (20, b'Dangerous curve to the right') (21, b'Double curve')\n",
    "    - (22, b'Bumpy road') (23, b'Slippery road')\n",
    "    - (24, b'Road narrows on the right') (25, b'Road work')\n",
    "    - (26, b'Traffic signals') (27, b'Pedestrians') (28, b'Children crossing')\n",
    "    - (29, b'Bicycles crossing') (30, b'Beware of ice/snow')\n",
    "    - (31, b'Wild animals crossing')\n",
    "    - (32, b'End of all speed and passing limits') (33, b'Turn right ahead')\n",
    "    - (34, b'Turn left ahead') (35, b'Ahead only') (36, b'Go straight or right')\n",
    "    - (37, b'Go straight or left') (38, b'Keep right') (39, b'Keep left')\n",
    "    - (40, b'Roundabout mandatory') (41, b'End of no passing')\n",
    "    - (42, b'End of no passing by vehicles over 3.5 metric tons')\n",
    "\n",
    "- The network used is called Le-Net that was presented by Yann LeCun\n",
    "http://yann.lecun.com/exdb/publis/pdf/lecun-01a.pdf\n"
   ]
  },
  {
   "cell_type": "markdown",
   "metadata": {},
   "source": [
    "Citation\n",
    "\n",
    "J. Stallkamp, M. Schlipsing, J. Salmen, and C. Igel. The German Traffic Sign Recognition Benchmark: A multi-class classification competition. In Proceedings of the IEEE International Joint Conference on Neural Networks, pages 1453–1460. 2011. \n",
    "\n",
    "@inproceedings{Stallkamp-IJCNN-2011,\n",
    "    author = {Johannes Stallkamp and Marc Schlipsing and Jan Salmen and Christian Igel},\n",
    "    booktitle = {IEEE International Joint Conference on Neural Networks},\n",
    "    title = {The {G}erman {T}raffic {S}ign {R}ecognition {B}enchmark: A multi-class classification competition},\n",
    "    year = {2011},\n",
    "    pages = {1453--1460}\n",
    "}\n",
    "\n"
   ]
  },
  {
   "cell_type": "markdown",
   "metadata": {},
   "source": [
    "# STEP 1: IMPORT LIBRARIES AND DATASET"
   ]
  },
  {
   "cell_type": "code",
   "execution_count": 1,
   "metadata": {},
   "outputs": [],
   "source": [
    "import warnings\n",
    "warnings.filterwarnings(\"ignore\")"
   ]
  },
  {
   "cell_type": "code",
   "execution_count": 2,
   "metadata": {},
   "outputs": [],
   "source": [
    "# import libraries \n",
    "import pickle\n",
    "import seaborn as sns\n",
    "import pandas as pd # Import Pandas for data manipulation using dataframes\n",
    "import numpy as np # Import Numpy for data statistical analysis \n",
    "import matplotlib.pyplot as plt # Import matplotlib for data visualisation\n",
    "import random"
   ]
  },
  {
   "cell_type": "code",
   "execution_count": 3,
   "metadata": {},
   "outputs": [],
   "source": [
    "# The pickle module implements binary protocols for serializing and de-serializing a Python object structure.\n",
    "with open(\"./traffic-signs-data/train.p\", mode='rb') as training_data:\n",
    "    train = pickle.load(training_data)\n",
    "with open(\"./traffic-signs-data/valid.p\", mode='rb') as validation_data:\n",
    "    valid = pickle.load(validation_data)\n",
    "with open(\"./traffic-signs-data/test.p\", mode='rb') as testing_data:\n",
    "    test = pickle.load(testing_data)"
   ]
  },
  {
   "cell_type": "code",
   "execution_count": 4,
   "metadata": {},
   "outputs": [],
   "source": [
    "X_train, y_train = train['features'], train['labels']\n",
    "X_validation, y_validation = valid['features'], valid['labels']\n",
    "X_test, y_test = test['features'], test['labels']\n"
   ]
  },
  {
   "cell_type": "code",
   "execution_count": 5,
   "metadata": {},
   "outputs": [
    {
     "data": {
      "text/plain": [
       "(34799, 32, 32, 3)"
      ]
     },
     "execution_count": 5,
     "metadata": {},
     "output_type": "execute_result"
    }
   ],
   "source": [
    "X_train.shape"
   ]
  },
  {
   "cell_type": "code",
   "execution_count": 6,
   "metadata": {},
   "outputs": [
    {
     "data": {
      "text/plain": [
       "(34799,)"
      ]
     },
     "execution_count": 6,
     "metadata": {},
     "output_type": "execute_result"
    }
   ],
   "source": [
    "y_train.shape"
   ]
  },
  {
   "cell_type": "markdown",
   "metadata": {},
   "source": [
    "# STEP 2: IMAGE EXPLORATION"
   ]
  },
  {
   "cell_type": "code",
   "execution_count": 7,
   "metadata": {},
   "outputs": [
    {
     "data": {
      "text/plain": [
       "36"
      ]
     },
     "execution_count": 7,
     "metadata": {},
     "output_type": "execute_result"
    },
    {
     "data": {
      "image/png": "[encoded data removed]",
      "text/plain": [
       "<Figure size 432x288 with 1 Axes>"
      ]
     },
     "metadata": {
      "needs_background": "light"
     },
     "output_type": "display_data"
    }
   ],
   "source": [
    "i = 1001\n",
    "plt.imshow(X_train[i]) # Show images are not shuffled\n",
    "y_train[i]"
   ]
  },
  {
   "cell_type": "markdown",
   "metadata": {},
   "source": [
    "# STEP 3: DATA PEPARATION"
   ]
  },
  {
   "cell_type": "code",
   "execution_count": 8,
   "metadata": {},
   "outputs": [],
   "source": [
    "## Shuffle the dataset \n",
    "from sklearn.utils import shuffle\n",
    "X_train, y_train = shuffle(X_train, y_train)\n"
   ]
  },
  {
   "cell_type": "code",
   "execution_count": 9,
   "metadata": {},
   "outputs": [],
   "source": [
    "X_train_gray = np.sum(X_train/3, axis=3, keepdims=True)\n",
    "X_test_gray  = np.sum(X_test/3, axis=3, keepdims=True)\n",
    "X_validation_gray  = np.sum(X_validation/3, axis=3, keepdims=True) "
   ]
  },
  {
   "cell_type": "code",
   "execution_count": 10,
   "metadata": {},
   "outputs": [],
   "source": [
    "X_train_gray_norm = (X_train_gray - 128)/128 \n",
    "X_test_gray_norm = (X_test_gray - 128)/128\n",
    "X_validation_gray_norm = (X_validation_gray - 128)/128\n"
   ]
  },
  {
   "cell_type": "code",
   "execution_count": 11,
   "metadata": {},
   "outputs": [
    {
     "data": {
      "text/plain": [
       "(34799, 32, 32, 1)"
      ]
     },
     "execution_count": 11,
     "metadata": {},
     "output_type": "execute_result"
    }
   ],
   "source": [
    "X_train_gray.shape"
   ]
  },
  {
   "cell_type": "code",
   "execution_count": 12,
   "metadata": {},
   "outputs": [
    {
     "data": {
      "text/plain": [
       "<matplotlib.image.AxesImage at 0x11a0663f2e8>"
      ]
     },
     "execution_count": 12,
     "metadata": {},
     "output_type": "execute_result"
    },
    {
     "data": {
      "image/png": "[encoded data removed]",
      "text/plain": [
       "<Figure size 432x288 with 1 Axes>"
      ]
     },
     "metadata": {
      "needs_background": "light"
     },
     "output_type": "display_data"
    },
    {
     "data": {
      "image/png": "[encoded data removed]",
      "text/plain": [
       "<Figure size 432x288 with 1 Axes>"
      ]
     },
     "metadata": {
      "needs_background": "light"
     },
     "output_type": "display_data"
    }
   ],
   "source": [
    "i = 610\n",
    "plt.imshow(X_train_gray[i].squeeze(), cmap='gray')\n",
    "plt.figure()\n",
    "plt.imshow(X_train[i])\n"
   ]
  },
  {
   "cell_type": "markdown",
   "metadata": {},
   "source": [
    "# STEP 4: MODEL TRAINING"
   ]
  },
  {
   "cell_type": "markdown",
   "metadata": {},
   "source": [
    "The model consists of the following layers: \n",
    "\n",
    "- STEP 1: THE FIRST CONVOLUTIONAL LAYER #1\n",
    "    - Input = 32x32x1\n",
    "    - Output = 28x28x6\n",
    "    - Output = (Input-filter+1)/Stride* => (32-5+1)/1=28\n",
    "    - Used a 5x5 Filter with input depth of 3 and output depth of 6\n",
    "    - Apply a RELU Activation function to the output\n",
    "    - pooling for input, Input = 28x28x6 and Output = 14x14x6\n",
    "\n",
    "\n",
    "    * Stride is the amount by which the kernel is shifted when the kernel is passed over the image.\n",
    "\n",
    "- STEP 2: THE SECOND CONVOLUTIONAL LAYER #2\n",
    "    - Input = 14x14x6\n",
    "    - Output = 10x10x16\n",
    "    - Layer 2: Convolutional layer with Output = 10x10x16\n",
    "    - Output = (Input-filter+1)/strides => 10 = 14-5+1/1\n",
    "    - Apply a RELU Activation function to the output\n",
    "    - Pooling with Input = 10x10x16 and Output = 5x5x16\n",
    "\n",
    "- STEP 3: FLATTENING THE NETWORK\n",
    "    - Flatten the network with Input = 5x5x16 and Output = 400\n",
    "\n",
    "- STEP 4: FULLY CONNECTED LAYER\n",
    "    - Layer 3: Fully Connected layer with Input = 400 and Output = 120\n",
    "    - Apply a RELU Activation function to the output\n",
    "\n",
    "- STEP 5: ANOTHER FULLY CONNECTED LAYER\n",
    "    - Layer 4: Fully Connected Layer with Input = 120 and Output = 84\n",
    "    - Apply a RELU Activation function to the output\n",
    "\n",
    "- STEP 6: FULLY CONNECTED LAYER\n",
    "    - Layer 5: Fully Connected layer with Input = 84 and Output = 43"
   ]
  },
  {
   "cell_type": "code",
   "execution_count": 13,
   "metadata": {},
   "outputs": [
    {
     "name": "stderr",
     "output_type": "stream",
     "text": [
      "Using TensorFlow backend.\n"
     ]
    }
   ],
   "source": [
    "# Import train_test_split from scikit library\n",
    "\n",
    "from keras.models import Sequential\n",
    "from keras.layers import Conv2D, MaxPooling2D, AveragePooling2D, Dense, Flatten, Dropout\n",
    "from keras.optimizers import Adam\n",
    "from keras.callbacks import TensorBoard\n",
    "\n",
    "from sklearn.model_selection import train_test_split\n"
   ]
  },
  {
   "cell_type": "code",
   "execution_count": 14,
   "metadata": {},
   "outputs": [],
   "source": [
    "image_shape = X_train_gray[i].shape"
   ]
  },
  {
   "cell_type": "code",
   "execution_count": 15,
   "metadata": {},
   "outputs": [
    {
     "name": "stdout",
     "output_type": "stream",
     "text": [
      "WARNING:tensorflow:From C:\\Users\\esaeri-1122\\AppData\\Local\\Continuum\\anaconda3\\lib\\site-packages\\tensorflow\\python\\ops\\resource_variable_ops.py:435: colocate_with (from tensorflow.python.framework.ops) is deprecated and will be removed in a future version.\n",
      "Instructions for updating:\n",
      "Colocations handled automatically by placer.\n"
     ]
    }
   ],
   "source": [
    "cnn_model = Sequential()\n",
    "\n",
    "cnn_model.add(Conv2D(filters=6, kernel_size=(5, 5), activation='relu', input_shape=(32,32,1)))\n",
    "cnn_model.add(AveragePooling2D())\n",
    "\n",
    "cnn_model.add(Conv2D(filters=16, kernel_size=(5, 5), activation='relu'))\n",
    "cnn_model.add(AveragePooling2D())\n",
    "\n",
    "cnn_model.add(Flatten())\n",
    "\n",
    "cnn_model.add(Dense(units=120, activation='relu'))\n",
    "\n",
    "cnn_model.add(Dense(units=84, activation='relu'))\n",
    "\n",
    "cnn_model.add(Dense(units=43, activation = 'softmax'))\n"
   ]
  },
  {
   "cell_type": "code",
   "execution_count": 16,
   "metadata": {},
   "outputs": [],
   "source": [
    "cnn_model.compile(loss ='sparse_categorical_crossentropy', optimizer=Adam(lr=0.001),metrics =['accuracy'])"
   ]
  },
  {
   "cell_type": "code",
   "execution_count": 17,
   "metadata": {},
   "outputs": [
    {
     "name": "stdout",
     "output_type": "stream",
     "text": [
      "Train on 34799 samples, validate on 4410 samples\n",
      "Epoch 1/50\n",
      "34799/34799 [==============================] - 11s 307us/step - loss: 3.1605 - accuracy: 0.1734 - val_loss: 2.6743 - val_accuracy: 0.2878\n",
      "Epoch 2/50\n",
      "34799/34799 [==============================] - 12s 335us/step - loss: 1.7334 - accuracy: 0.5190 - val_loss: 1.4568 - val_accuracy: 0.5805\n",
      "Epoch 3/50\n",
      "34799/34799 [==============================] - 13s 374us/step - loss: 0.9900 - accuracy: 0.7166 - val_loss: 1.0409 - val_accuracy: 0.7002\n",
      "Epoch 4/50\n",
      "34799/34799 [==============================] - 13s 373us/step - loss: 0.6927 - accuracy: 0.8086 - val_loss: 0.8935 - val_accuracy: 0.7410\n",
      "Epoch 5/50\n",
      "34799/34799 [==============================] - 14s 416us/step - loss: 0.5446 - accuracy: 0.8500 - val_loss: 0.7530 - val_accuracy: 0.7778\n",
      "Epoch 6/50\n",
      "34799/34799 [==============================] - 15s 430us/step - loss: 0.4563 - accuracy: 0.8753 - val_loss: 0.7009 - val_accuracy: 0.8000\n",
      "Epoch 7/50\n",
      "34799/34799 [==============================] - 15s 418us/step - loss: 0.3964 - accuracy: 0.8930 - val_loss: 0.6723 - val_accuracy: 0.7959\n",
      "Epoch 8/50\n",
      "34799/34799 [==============================] - 14s 414us/step - loss: 0.3408 - accuracy: 0.9097 - val_loss: 0.6528 - val_accuracy: 0.8113\n",
      "Epoch 9/50\n",
      "34799/34799 [==============================] - 15s 442us/step - loss: 0.2990 - accuracy: 0.9226 - val_loss: 0.6394 - val_accuracy: 0.8252\n",
      "Epoch 10/50\n",
      "34799/34799 [==============================] - 16s 463us/step - loss: 0.2699 - accuracy: 0.9278 - val_loss: 0.5946 - val_accuracy: 0.8313\n",
      "Epoch 11/50\n",
      "34799/34799 [==============================] - 15s 434us/step - loss: 0.2365 - accuracy: 0.9394 - val_loss: 0.6070 - val_accuracy: 0.8306\n",
      "Epoch 12/50\n",
      "34799/34799 [==============================] - 14s 390us/step - loss: 0.2155 - accuracy: 0.9439 - val_loss: 0.6301 - val_accuracy: 0.8263\n",
      "Epoch 13/50\n",
      "34799/34799 [==============================] - 14s 408us/step - loss: 0.1984 - accuracy: 0.9507 - val_loss: 0.5840 - val_accuracy: 0.8410\n",
      "Epoch 14/50\n",
      "34799/34799 [==============================] - 14s 399us/step - loss: 0.1820 - accuracy: 0.9531 - val_loss: 0.6151 - val_accuracy: 0.8381\n",
      "Epoch 15/50\n",
      "34799/34799 [==============================] - 14s 409us/step - loss: 0.1627 - accuracy: 0.9601 - val_loss: 0.6207 - val_accuracy: 0.8392\n",
      "Epoch 16/50\n",
      "34799/34799 [==============================] - 14s 412us/step - loss: 0.1505 - accuracy: 0.9625 - val_loss: 0.6126 - val_accuracy: 0.8333\n",
      "Epoch 17/50\n",
      "34799/34799 [==============================] - 14s 397us/step - loss: 0.1437 - accuracy: 0.9644 - val_loss: 0.6223 - val_accuracy: 0.8429\n",
      "Epoch 18/50\n",
      "34799/34799 [==============================] - 14s 390us/step - loss: 0.1281 - accuracy: 0.9692 - val_loss: 0.6345 - val_accuracy: 0.8463\n",
      "Epoch 19/50\n",
      "34799/34799 [==============================] - 14s 402us/step - loss: 0.1229 - accuracy: 0.9696 - val_loss: 0.6159 - val_accuracy: 0.8499\n",
      "Epoch 20/50\n",
      "34799/34799 [==============================] - 15s 427us/step - loss: 0.1116 - accuracy: 0.9716 - val_loss: 0.6343 - val_accuracy: 0.8417\n",
      "Epoch 21/50\n",
      "34799/34799 [==============================] - 15s 429us/step - loss: 0.1093 - accuracy: 0.9730 - val_loss: 0.6278 - val_accuracy: 0.8458\n",
      "Epoch 22/50\n",
      "34799/34799 [==============================] - 15s 417us/step - loss: 0.0978 - accuracy: 0.9761 - val_loss: 0.6569 - val_accuracy: 0.8483\n",
      "Epoch 23/50\n",
      "34799/34799 [==============================] - 13s 386us/step - loss: 0.0904 - accuracy: 0.9777 - val_loss: 0.6931 - val_accuracy: 0.8485\n",
      "Epoch 24/50\n",
      "34799/34799 [==============================] - 14s 392us/step - loss: 0.0835 - accuracy: 0.9801 - val_loss: 0.6545 - val_accuracy: 0.8512\n",
      "Epoch 25/50\n",
      "34799/34799 [==============================] - 14s 389us/step - loss: 0.0810 - accuracy: 0.9800 - val_loss: 0.7238 - val_accuracy: 0.8499\n",
      "Epoch 26/50\n",
      "34799/34799 [==============================] - 14s 401us/step - loss: 0.0739 - accuracy: 0.9832 - val_loss: 0.7495 - val_accuracy: 0.8463\n",
      "Epoch 27/50\n",
      "34799/34799 [==============================] - 15s 426us/step - loss: 0.0701 - accuracy: 0.9841 - val_loss: 0.7128 - val_accuracy: 0.8571\n",
      "Epoch 28/50\n",
      "34799/34799 [==============================] - 16s 445us/step - loss: 0.0617 - accuracy: 0.9863 - val_loss: 0.7268 - val_accuracy: 0.8549\n",
      "Epoch 29/50\n",
      "34799/34799 [==============================] - 15s 424us/step - loss: 0.0610 - accuracy: 0.9855 - val_loss: 0.7315 - val_accuracy: 0.8549\n",
      "Epoch 30/50\n",
      "34799/34799 [==============================] - 16s 453us/step - loss: 0.0566 - accuracy: 0.9872 - val_loss: 0.7374 - val_accuracy: 0.8578\n",
      "Epoch 31/50\n",
      "34799/34799 [==============================] - 15s 437us/step - loss: 0.0596 - accuracy: 0.9847 - val_loss: 0.7124 - val_accuracy: 0.8476\n",
      "Epoch 32/50\n",
      "34799/34799 [==============================] - 14s 389us/step - loss: 0.0576 - accuracy: 0.9862 - val_loss: 0.7249 - val_accuracy: 0.8615\n",
      "Epoch 33/50\n",
      "34799/34799 [==============================] - 13s 384us/step - loss: 0.0527 - accuracy: 0.9882 - val_loss: 0.7397 - val_accuracy: 0.8542\n",
      "Epoch 34/50\n",
      "34799/34799 [==============================] - 14s 416us/step - loss: 0.0442 - accuracy: 0.9897 - val_loss: 0.8123 - val_accuracy: 0.8560\n",
      "Epoch 35/50\n",
      "34799/34799 [==============================] - 14s 395us/step - loss: 0.0407 - accuracy: 0.9916 - val_loss: 0.7907 - val_accuracy: 0.8535\n",
      "Epoch 36/50\n",
      "34799/34799 [==============================] - 14s 393us/step - loss: 0.0432 - accuracy: 0.9900 - val_loss: 0.7465 - val_accuracy: 0.8610\n",
      "Epoch 37/50\n",
      "34799/34799 [==============================] - 14s 397us/step - loss: 0.0438 - accuracy: 0.9896 - val_loss: 0.7638 - val_accuracy: 0.8558\n",
      "Epoch 38/50\n",
      "34799/34799 [==============================] - 14s 392us/step - loss: 0.0363 - accuracy: 0.9925 - val_loss: 0.7202 - val_accuracy: 0.8628\n",
      "Epoch 39/50\n",
      "34799/34799 [==============================] - 14s 397us/step - loss: 0.0349 - accuracy: 0.9930 - val_loss: 0.7846 - val_accuracy: 0.8517\n",
      "Epoch 40/50\n",
      "34799/34799 [==============================] - 14s 392us/step - loss: 0.0372 - accuracy: 0.9916 - val_loss: 0.7354 - val_accuracy: 0.8610\n",
      "Epoch 41/50\n",
      "34799/34799 [==============================] - 14s 397us/step - loss: 0.0424 - accuracy: 0.9895 - val_loss: 0.8205 - val_accuracy: 0.8567\n",
      "Epoch 42/50\n",
      "34799/34799 [==============================] - 14s 395us/step - loss: 0.0353 - accuracy: 0.9919 - val_loss: 0.7950 - val_accuracy: 0.8585\n",
      "Epoch 43/50\n",
      "34799/34799 [==============================] - 15s 432us/step - loss: 0.0279 - accuracy: 0.9947 - val_loss: 0.7837 - val_accuracy: 0.8528\n",
      "Epoch 44/50\n",
      "34799/34799 [==============================] - 15s 436us/step - loss: 0.0336 - accuracy: 0.9925 - val_loss: 0.8577 - val_accuracy: 0.8413\n",
      "Epoch 45/50\n",
      "34799/34799 [==============================] - 14s 403us/step - loss: 0.0455 - accuracy: 0.9879 - val_loss: 0.7907 - val_accuracy: 0.8585\n",
      "Epoch 46/50\n",
      "34799/34799 [==============================] - 16s 473us/step - loss: 0.0292 - accuracy: 0.9939 - val_loss: 0.7768 - val_accuracy: 0.8676\n",
      "Epoch 47/50\n",
      "34799/34799 [==============================] - 15s 443us/step - loss: 0.0230 - accuracy: 0.9960 - val_loss: 0.7467 - val_accuracy: 0.8610\n",
      "Epoch 48/50\n",
      "34799/34799 [==============================] - 16s 467us/step - loss: 0.0242 - accuracy: 0.9952 - val_loss: 0.7897 - val_accuracy: 0.8676\n",
      "Epoch 49/50\n",
      "34799/34799 [==============================] - 15s 441us/step - loss: 0.0252 - accuracy: 0.9950 - val_loss: 0.7813 - val_accuracy: 0.8669\n",
      "Epoch 50/50\n",
      "34799/34799 [==============================] - 15s 442us/step - loss: 0.0208 - accuracy: 0.9966 - val_loss: 0.8162 - val_accuracy: 0.8594\n"
     ]
    }
   ],
   "source": [
    "history = cnn_model.fit(X_train_gray_norm,\n",
    "                        y_train,\n",
    "                        batch_size=500,\n",
    "                        nb_epoch=50,\n",
    "                        verbose=1,\n",
    "                        validation_data = (X_validation_gray_norm,y_validation))"
   ]
  },
  {
   "cell_type": "markdown",
   "metadata": {},
   "source": [
    "# STEP 5: MODEL EVALUATION"
   ]
  },
  {
   "cell_type": "code",
   "execution_count": 18,
   "metadata": {},
   "outputs": [
    {
     "name": "stdout",
     "output_type": "stream",
     "text": [
      "Test Accuracy : 0.8603\n"
     ]
    }
   ],
   "source": [
    "score = cnn_model.evaluate(X_test_gray_norm, y_test,verbose=0)\n",
    "print('Test Accuracy : {:.4f}'.format(score[1]))"
   ]
  },
  {
   "cell_type": "code",
   "execution_count": 19,
   "metadata": {},
   "outputs": [
    {
     "data": {
      "text/plain": [
       "dict_keys(['val_loss', 'val_accuracy', 'loss', 'accuracy'])"
      ]
     },
     "execution_count": 19,
     "metadata": {},
     "output_type": "execute_result"
    }
   ],
   "source": [
    "history.history.keys()"
   ]
  },
  {
   "cell_type": "code",
   "execution_count": 20,
   "metadata": {},
   "outputs": [
    {
     "ename": "KeyError",
     "evalue": "'acc'",
     "output_type": "error",
     "traceback": [
      "\u001b[1;31m---------------------------------------------------------------------------\u001b[0m",
      "\u001b[1;31mKeyError\u001b[0m                                  Traceback (most recent call last)",
      "\u001b[1;32m<ipython-input-20-30577efeeda5>\u001b[0m in \u001b[0;36m<module>\u001b[1;34m\u001b[0m\n\u001b[1;32m----> 1\u001b[1;33m \u001b[0maccuracy\u001b[0m \u001b[1;33m=\u001b[0m \u001b[0mhistory\u001b[0m\u001b[1;33m.\u001b[0m\u001b[0mhistory\u001b[0m\u001b[1;33m[\u001b[0m\u001b[1;34m'acc'\u001b[0m\u001b[1;33m]\u001b[0m\u001b[1;33m\u001b[0m\u001b[1;33m\u001b[0m\u001b[0m\n\u001b[0m\u001b[0;32m      2\u001b[0m \u001b[0mval_accuracy\u001b[0m \u001b[1;33m=\u001b[0m \u001b[0mhistory\u001b[0m\u001b[1;33m.\u001b[0m\u001b[0mhistory\u001b[0m\u001b[1;33m[\u001b[0m\u001b[1;34m'val_acc'\u001b[0m\u001b[1;33m]\u001b[0m\u001b[1;33m\u001b[0m\u001b[1;33m\u001b[0m\u001b[0m\n\u001b[0;32m      3\u001b[0m \u001b[0mloss\u001b[0m \u001b[1;33m=\u001b[0m \u001b[0mhistory\u001b[0m\u001b[1;33m.\u001b[0m\u001b[0mhistory\u001b[0m\u001b[1;33m[\u001b[0m\u001b[1;34m'loss'\u001b[0m\u001b[1;33m]\u001b[0m\u001b[1;33m\u001b[0m\u001b[1;33m\u001b[0m\u001b[0m\n\u001b[0;32m      4\u001b[0m \u001b[0mval_loss\u001b[0m \u001b[1;33m=\u001b[0m \u001b[0mhistory\u001b[0m\u001b[1;33m.\u001b[0m\u001b[0mhistory\u001b[0m\u001b[1;33m[\u001b[0m\u001b[1;34m'val_loss'\u001b[0m\u001b[1;33m]\u001b[0m\u001b[1;33m\u001b[0m\u001b[1;33m\u001b[0m\u001b[0m\n\u001b[0;32m      5\u001b[0m \u001b[1;33m\u001b[0m\u001b[0m\n",
      "\u001b[1;31mKeyError\u001b[0m: 'acc'"
     ]
    }
   ],
   "source": [
    "accuracy = history.history['acc']\n",
    "val_accuracy = history.history['val_acc']\n",
    "loss = history.history['loss']\n",
    "val_loss = history.history['val_loss']\n",
    "\n",
    "epochs = range(len(accuracy))\n",
    "\n",
    "plt.plot(epochs, accuracy, 'bo', label='Training Accuracy')\n",
    "plt.plot(epochs, val_accuracy, 'b', label='Validation Accuracy')\n",
    "plt.title('Training and Validation accuracy')\n",
    "plt.legend()\n"
   ]
  },
  {
   "cell_type": "code",
   "execution_count": null,
   "metadata": {},
   "outputs": [],
   "source": [
    "plt.plot(epochs, loss, 'ro', label='Training Loss')\n",
    "plt.plot(epochs, val_loss, 'r', label='Validation Loss')\n",
    "plt.title('Training and validation loss')\n",
    "plt.legend()\n",
    "plt.show()"
   ]
  },
  {
   "cell_type": "code",
   "execution_count": null,
   "metadata": {},
   "outputs": [],
   "source": [
    "#get the predictions for the test data\n",
    "predicted_classes = cnn_model.predict_classes(X_test_gray_norm)\n",
    "#get the indices to be plotted\n",
    "y_true = y_test\n"
   ]
  },
  {
   "cell_type": "code",
   "execution_count": null,
   "metadata": {},
   "outputs": [],
   "source": [
    "from sklearn.metrics import confusion_matrix\n",
    "cm = confusion_matrix(y_true, predicted_classes)\n",
    "plt.figure(figsize = (25,25))\n",
    "sns.heatmap(cm, annot=True)"
   ]
  },
  {
   "cell_type": "code",
   "execution_count": null,
   "metadata": {
    "scrolled": true
   },
   "outputs": [],
   "source": [
    "L = 7\n",
    "W = 7\n",
    "fig, axes = plt.subplots(L, W, figsize = (12,12))\n",
    "axes = axes.ravel() # \n",
    "\n",
    "for i in np.arange(0, L * W):  \n",
    "    axes[i].imshow(X_test[i])\n",
    "    axes[i].set_title(\"Prediction={}\\n True={}\".format(predicted_classes[i], y_true[i]))\n",
    "    axes[i].axis('off')\n",
    "\n",
    "plt.subplots_adjust(wspace=1)"
   ]
  }
 ],
 "metadata": {
  "kernelspec": {
   "display_name": "Python 3",
   "language": "python",
   "name": "python3"
  },
  "language_info": {
   "codemirror_mode": {
    "name": "ipython",
    "version": 3
   },
   "file_extension": ".py",
   "mimetype": "text/x-python",
   "name": "python",
   "nbconvert_exporter": "python",
   "pygments_lexer": "ipython3",
   "version": "3.6.9"
  },
  "widgets": {
   "state": {},
   "version": "1.1.2"
  }
 },
 "nbformat": 4,
 "nbformat_minor": 2
}
